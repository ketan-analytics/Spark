{
 "cells": [
  {
   "cell_type": "code",
   "execution_count": null,
   "metadata": {},
   "outputs": [],
   "source": [
    "from pyspark.sql import Spark\n",
    "Sessionspark=SparkSession.builder.master(\"local[2]\").appName(\"SparkStreaming_ActivityData\").getOrCreate()\n"
   ]
  }
 ],
 "metadata": {
  "language": "python"
 },
 "nbformat": 4,
 "nbformat_minor": 2
}
